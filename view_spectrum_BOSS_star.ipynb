{
 "cells": [
  {
   "cell_type": "markdown",
   "id": "0cd80e9a-6e44-44de-9d65-872d8fcb29ec",
   "metadata": {},
   "source": [
    "# Plotting a BOSS Stellar Spectrum and Best Fit\n",
    "\n",
    "## Learning Goals\n",
    "By the end of this tutorial, you will:\n",
    "- Know how to manually retrieve SDSS spectrum files\n",
    "- Understand some of the structure of a fits file containing a BOSS spectrum\n",
    "- (Optionally) have a copy of the AllStarSnowWhite file\n",
    "\n",
    "## Introduction\n",
    "SDSS V now uses the BOSS optical spectrograph to observe stars. White dwarfs are a particularly large SDSS V program, and the data are reduced by a product called Snow White.\n",
    "\n",
    "In this short tutorial we will briefly cover how to retrieve an object's sdss_id from the allStarSnowWhite file, then show how to build the file name and retrieve the BOSS spectrum of that star from the SDSS Science Archive Server (SAS).\n",
    "\n",
    "## Imports\n",
    "This tutorial requires three commonly used python packages, and an SDSS specific package\n",
    "- _numpy_ for doing large array operations\n",
    "- _matplotlib_ for plotting\n",
    "- _astropy_ for reading fits table\n",
    "\n",
    "Missing packages can be installed via `pip install numpy matplotlib astropy`\n",
    "\n",
    "## Optional Import\n",
    "\n",
    "A portion of this tutorial will demonstrate how to use `sdss_access` to download sdss data in the background, saving some manual effort. This is optional, as we first show how to find these files manually.\n",
    "\n",
    "`sdss_access` can be installed via `pip install sdss-access`\n",
    "\n",
    "The last two lines of the next block should be commented out if you choose not install `sdss_access`\n",
    "\n",
    "# Note!\n",
    "If you already have `sdss_access` installed but have trouble with these file types, try upgrading to the latest version `pip install --upgrade sdss-access`"
   ]
  },
  {
   "cell_type": "code",
   "execution_count": 1,
   "id": "e3c60bdb-a26c-4e7f-a7db-b68033021c34",
   "metadata": {
    "tags": []
   },
   "outputs": [],
   "source": [
    "import numpy as np\n",
    "import matplotlib.pyplot as plt\n",
    "from astropy.table import Table\n",
    "\n",
    "from sdss_access import Access\n",
    "access = Access(release='dr19')"
   ]
  },
  {
   "cell_type": "markdown",
   "id": "ede9706d-ef85-4cd5-ac89-50d122f2fca2",
   "metadata": {
    "tags": []
   },
   "source": [
    "Let's get the summary file for SnowWhite. The file is approximately 1.6 MB and can be downloaded from \n",
    "https://data.sdss5.org/sas/dr19/spectro/astra/0.6.0/summary/astraAllStarSnowWhite-0.6.0.fits.gz\n",
    "\n",
    "The variable `wd_file` is set to just the name of the file. You may need to modify it to point to the full path if the file is not in the same location as this notebook.\n",
    "\n",
    "HDU 1 contains the parameters from BOSS spectra, which is what SnowWhite runs on.\n",
    "\n",
    "If you are running this notebook on SciServer, this file is already available. Uncomment the file path to rename the `wd_file` variable to point to this version."
   ]
  },
  {
   "cell_type": "code",
   "execution_count": null,
   "id": "ce127f54-957c-434f-b802-4daf3981a7b4",
   "metadata": {
    "tags": []
   },
   "outputs": [
    {
     "name": "stdout",
     "output_type": "stream",
     "text": [
      "10364\n"
     ]
    }
   ],
   "source": [
    "wd_file = \"astraAllStarSnowWhite-0.6.0.fits.gz\"\n",
    "\n",
    "# wd_file = \"/home/idies/workspace/sdss_sas/dr19/spectro/astra/0.6.0/summary/astraAllStarSnowWhite-0.6.0.fits.gz\"\n",
    "\n",
    "allStarSnowWhiteFull = Table.read(wd_file, hdu=1)\n",
    "print(len(allStarSnowWhiteFull))"
   ]
  },
  {
   "cell_type": "markdown",
   "id": "902a7ef1-adc3-4c20-9512-cd66abea4353",
   "metadata": {},
   "source": [
    "First we'll apply a cut to remove lower Signal-to-Noise (SNR) stars and stars with higher reduced χ^2 values, leaving only the stars with highest quality data and good fits"
   ]
  },
  {
   "cell_type": "code",
   "execution_count": 3,
   "id": "ed1de667-6419-4f8c-b2bd-3adb39c58525",
   "metadata": {},
   "outputs": [
    {
     "name": "stdout",
     "output_type": "stream",
     "text": [
      "52\n"
     ]
    }
   ],
   "source": [
    "allStarSnowWhite = allStarSnowWhiteFull[np.logical_and(allStarSnowWhiteFull[\"nmf_rchi2\"] < 2, allStarSnowWhiteFull[\"snr\"] > 50)]\n",
    "print(len(allStarSnowWhite))"
   ]
  },
  {
   "cell_type": "markdown",
   "id": "9b0e7276-7e49-4398-9b41-6c311a67a257",
   "metadata": {},
   "source": [
    "## Choosing a star and constructing the data path\n",
    "\n",
    "Let's compare the observed spectrum and best-fit SnowWhite model for a single star.\n",
    "\n",
    "First, grab the SDSS ID for a star, let's say the first. This is the info we need to grab the stacked spectrum and best-fit model."
   ]
  },
  {
   "cell_type": "code",
   "execution_count": 4,
   "id": "78370e71-e267-40b5-985e-b4a17f6c3f38",
   "metadata": {},
   "outputs": [],
   "source": [
    "single_star = allStarSnowWhite[0]\n",
    "sdss_id = str(single_star[\"sdss_id\"])"
   ]
  },
  {
   "cell_type": "markdown",
   "id": "fef7ca7c-0276-48a6-912f-0f5b76be7596",
   "metadata": {},
   "source": [
    "## SciServer\n",
    "\n",
    "If you are running this notebook on SciServer, the data are already available. We'll set the `mwmStar_filename` and `astraStar_filename` variables, then skip ahead to loading the files."
   ]
  },
  {
   "cell_type": "code",
   "execution_count": 5,
   "id": "d41b67ab-c2f8-4648-9f73-512d52648262",
   "metadata": {},
   "outputs": [],
   "source": [
    "file_root = \"/home/idies/workspace/sdss_sas_ipl/dr19/spectro/astra/0.6.0/spectra/star/\"\n",
    "mwmStar_filename = file_root + f\"{sdss_id[-4:-2]}/{sdss_id[-2:]}/mwmStar-0.6.0-{sdss_id}.fits\"\n",
    "astraStar_filename = file_root +  f\"{sdss_id[-4:-2]}/{sdss_id[-2:]}/astraStarSnowWhite-0.6.0-{sdss_id}.fits\""
   ]
  },
  {
   "cell_type": "markdown",
   "id": "14bd4321-ec9d-415f-9097-2f1f928ac44b",
   "metadata": {},
   "source": [
    "If running on SciServer, **skip ahead to the \"Loading Data\" section**. Running the cells between here and there will reset the file names.\n",
    "\n",
    "## Manually downloaded data\n",
    "\n",
    "If you are running this notebook yourself, SDSS Spectra can be manually downloaded from the Science Archive Server (SAS) if you carefully construct the paths. Many may find it easier to use the `sdss_access` product, if so you may skip to that section.\n",
    "\n",
    "To manually access data, the URL of the mwmStar file (containing the stacked observed spectrum) can be constructed from the SDSS ID, and the URL of the astraStarSnowWhite file (containing the best-fit model spectrum)."
   ]
  },
  {
   "cell_type": "code",
   "execution_count": 6,
   "id": "0b5bf54c-14c9-4d72-937d-f630796c7dc5",
   "metadata": {
    "tags": []
   },
   "outputs": [
    {
     "data": {
      "text/plain": [
       "'https://data.sdss5.org/sas/dr19/spectro/astra/0.6.0/spectra/star/07/10/mwmStar-0.6.0-66090710.fits'"
      ]
     },
     "execution_count": 6,
     "metadata": {},
     "output_type": "execute_result"
    }
   ],
   "source": [
    "mwmStar_filename = f\"mwmStar-0.6.0-{sdss_id}.fits\"\n",
    "f\"https://dr19.sdss5.org/sas/dr19/spectro/astra/0.6.0/spectra/star/{sdss_id[-4:-2]}/{sdss_id[-2:]}/\" + mwmStar_filename"
   ]
  },
  {
   "cell_type": "markdown",
   "id": "55e4b7d0-6d0b-4318-80f5-3915ba6fd857",
   "metadata": {},
   "source": [
    "Navigating to that URL (copy and paste in any browser, or possibly just click the link) should begin the download immediately. Move the file to the same directory as this notebook, or modify the mwmStar_filename with the path to the file.\n",
    "\n",
    "Now we need to grab the astraStar file in order to load the model flux. SnowWhite astraStar filenames contains WD instead of SnowWhite for legacy reasons."
   ]
  },
  {
   "cell_type": "code",
   "execution_count": 7,
   "id": "819c250b-2424-49d2-b252-a8c2fbec3d29",
   "metadata": {
    "tags": []
   },
   "outputs": [
    {
     "data": {
      "text/plain": [
       "'https://data.sdss5.org/sas/dr19/spectro/astra/0.6.0/results/star/07/10/astraStarSnowWhite-0.6.0-66090710.fits'"
      ]
     },
     "execution_count": 7,
     "metadata": {},
     "output_type": "execute_result"
    }
   ],
   "source": [
    "astraStar_filename = f\"astraStarSnowWhite-0.6.0-{sdss_id}.fits\"\n",
    "f\"https://dr19.sdss5.org/sas/dr19/spectro/astra/0.6.0/results/star/{sdss_id[-4:-2]}/{sdss_id[-2:]}/\" + astraStar_filename"
   ]
  },
  {
   "cell_type": "markdown",
   "id": "91ff5fa5-52c0-4e25-982c-fad41c30e41f",
   "metadata": {},
   "source": [
    "Download and move the astraStar file just as before.\n",
    "\n",
    "Alternatively, the files can be downloaded in the background using `sdss_access`.\n",
    "\n",
    "## sdss-access\n",
    "\n",
    "sdss-access has extensive [documentation](https://sdss-access.readthedocs.io/en/latest/), but we should mention a few things. First if you are a member of the collaboration accessing proprietary data, you need to set up a [.netrc file](https://sdss-access.readthedocs.io/en/latest/auth.html). After that usage is the same for everyone.\n",
    "\n",
    "You need specify the file species you need, in this case 'mwmStar', then a series of key word arguments that vary depending on the file species. A list of file species and their keyword arugments is [available](https://sdss-access.readthedocs.io/en/latest/paths.html).\n",
    "\n",
    "The four lines of code below show an example of retreiving an sdss spectrum. `access.commit()` will retrieve the file and save it to your local SAS, `$SAS_BASE_DIR`, with the same structure as the SAS (so it will be many files deep)"
   ]
  },
  {
   "cell_type": "code",
   "execution_count": 8,
   "id": "4cfe9d8e-0d82-49a6-b5ea-b247f4199887",
   "metadata": {},
   "outputs": [
    {
     "name": "stderr",
     "output_type": "stream",
     "text": [
      "Progress:   0%|                | 0/2 [00:00<?, ?files/s, n_files=2, n_streams=2]"
     ]
    },
    {
     "name": "stdout",
     "output_type": "stream",
     "text": [
      "SDSS_ACCESS> Done!\n"
     ]
    },
    {
     "name": "stderr",
     "output_type": "stream",
     "text": [
      "\n"
     ]
    }
   ],
   "source": [
    "access.remote()\n",
    "access.add('mwmStar', v_astra='0.6.0', component='', sdss_id=sdss_id)\n",
    "access.add('astraStarSnowWhite', v_astra='0.6.0', component='', sdss_id=sdss_id)\n",
    "access.set_stream()\n",
    "access.commit()"
   ]
  },
  {
   "cell_type": "markdown",
   "id": "a902f605-5af4-4f05-818e-0049b2f039a7",
   "metadata": {},
   "source": [
    "Now we'll change the file names we created before to point to the new paths created by `sdss_access`"
   ]
  },
  {
   "cell_type": "code",
   "execution_count": 9,
   "id": "720fc777-58a0-4515-ba94-e3f5eab289ea",
   "metadata": {},
   "outputs": [
    {
     "name": "stdout",
     "output_type": "stream",
     "text": [
      "/Users/jdonor/sas/dr19/spectro/astra/0.6.0/spectra/star/07/10/mwmStar-0.6.0-66090710.fits\n",
      "/Users/jdonor/sas/dr19/spectro/astra/0.6.0/results/star/07/10/astraStarSnowWhite-0.6.0-66090710.fits\n"
     ]
    },
    {
     "data": {
      "text/plain": [
       "True"
      ]
     },
     "execution_count": 9,
     "metadata": {},
     "output_type": "execute_result"
    }
   ],
   "source": [
    "mwmStar_filename = access.full('mwmStar', v_astra='0.6.0', component='', sdss_id=sdss_id)\n",
    "print(mwmStar_filename)\n",
    "access.exists('', full=mwmStar_filename)\n",
    "\n",
    "astraStar_filename = access.full('astraStarSnowWhite', v_astra='0.6.0', component='', sdss_id=sdss_id)\n",
    "print(astraStar_filename)\n",
    "access.exists('', full=astraStar_filename)"
   ]
  },
  {
   "cell_type": "markdown",
   "id": "0b363830-1d26-4bb6-8da9-a05353385918",
   "metadata": {},
   "source": [
    "## Loading data\n",
    "\n",
    "Now, load the data and model spectrum and make plots.\n",
    "\n",
    "Again, HDU 1 contains the data from BOSS.\n",
    "\n",
    "We want the first entry in each of these columns. They are stored this way to be as similar as possible to mwmVisit files, which contain separate spectra for each visit."
   ]
  },
  {
   "cell_type": "code",
   "execution_count": 10,
   "id": "90bf06e2-0ce4-4d5d-9f1f-d0ac651c5f61",
   "metadata": {
    "tags": []
   },
   "outputs": [
    {
     "name": "stdout",
     "output_type": "stream",
     "text": [
      "spectrum_pk_id release filetype ... nmf_rectified_model_flux nmf_rchi2 nmf_flags\n",
      "-------------- ------- -------- ... ------------------------ --------- ---------\n",
      "      41553629   sdss5  mwmStar ... 0.97839606 .. 0.99388695 1.6908267         0\n"
     ]
    }
   ],
   "source": [
    "mwmStar = Table.read(mwmStar_filename, hdu=1)\n",
    "\n",
    "print(mwmStar)\n",
    "\n",
    "obs_wl = mwmStar[\"wavelength\"][0]\n",
    "obs_flux = mwmStar[\"flux\"][0]"
   ]
  },
  {
   "cell_type": "markdown",
   "id": "370633fc-120c-4d19-afce-02c47a6f4a39",
   "metadata": {},
   "source": [
    "Now we can load the astraStar file and grab the model flux. The structure is purposefully similar to the mwmStar file"
   ]
  },
  {
   "cell_type": "code",
   "execution_count": 11,
   "id": "95fed49f-743a-46c6-bd99-fe7b2aafa9fc",
   "metadata": {
    "tags": []
   },
   "outputs": [],
   "source": [
    "astraStar = Table.read(astraStar_filename, hdu=1)\n",
    "model_flux = astraStar[\"model_flux\"][0]"
   ]
  },
  {
   "cell_type": "markdown",
   "id": "bfd53583-823a-4a0c-aaad-a78b5bc97889",
   "metadata": {},
   "source": [
    "## Plot the data and model\n",
    "\n",
    "The model_flux, obs_flux, and obs_wl arrays are the same length, as one might expect.\n",
    "\n",
    "However, there is some kind of ringing going on at the blue end of the spectrum, which we'll mask out. Uncomment the other line to see it."
   ]
  },
  {
   "cell_type": "code",
   "execution_count": 12,
   "id": "f7b54e5e-5ed2-4410-949b-684c3bada476",
   "metadata": {
    "tags": []
   },
   "outputs": [
    {
     "data": {
      "text/plain": [
       "Text(0, 0.5, 'flux')"
      ]
     },
     "execution_count": 12,
     "metadata": {},
     "output_type": "execute_result"
    },
    {
     "data": {
      "image/png": "[encoded data removed]",
      "text/plain": [
       "<Figure size 1400x400 with 1 Axes>"
      ]
     },
     "metadata": {},
     "output_type": "display_data"
    }
   ],
   "source": [
    "plt.figure(figsize=(14,4))\n",
    "\n",
    "mask = obs_wl > 3800\n",
    "\n",
    "plt.plot(obs_wl[mask], obs_flux[mask])\n",
    "plt.plot(obs_wl, model_flux, zorder=10)\n",
    "plt.xlabel(\"λ [Å]\")\n",
    "plt.ylabel(\"flux\")"
   ]
  },
  {
   "cell_type": "markdown",
   "id": "735c250a-4022-4a8a-9ee3-c9d6c3a6e752",
   "metadata": {},
   "source": [
    "### About this notebook\n",
    "\n",
    "This notebook was created to illustrate how to use an BOSS spectrum and model fit by Snow White\n",
    "\n",
    "**Authors**: Adam Wheeler, John Donor\n",
    "\n",
    "**Last Update**: 2025 April 2\n",
    "\n",
    "If you use `astropy`  for published research, please cite the\n",
    "authors. Follow this link for more information about citing `astropy`:\n",
    "\n",
    "* [Citing `astropy`](https://www.astropy.org/acknowledging.html)\n",
    "\n",
    "And of course please [cite](https://sdss.org/collaboration/citing-sdss/) SDSS when you use our data."
   ]
  }
 ],
 "metadata": {
  "kernelspec": {
   "display_name": "Python 3 (ipykernel)",
   "language": "python",
   "name": "python3"
  },
  "language_info": {
   "codemirror_mode": {
    "name": "ipython",
    "version": 3
   },
   "file_extension": ".py",
   "mimetype": "text/x-python",
   "name": "python",
   "nbconvert_exporter": "python",
   "pygments_lexer": "ipython3",
   "version": "3.12.9"
  }
 },
 "nbformat": 4,
 "nbformat_minor": 5
}
