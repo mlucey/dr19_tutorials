{
 "cells": [
  {
   "cell_type": "markdown",
   "id": "1f70e2a6-abfd-49b1-b092-02affeb2f233",
   "metadata": {},
   "source": [
    "# Checking whether SDSS has a spectrum for me"
   ]
  },
  {
   "cell_type": "markdown",
   "id": "0130bd5f-ea21-42fa-ae5d-1ecd3e454992",
   "metadata": {},
   "source": [
    "## Learning goals\n",
    "\n",
    "Through this tutorial, you will learn:\n",
    "\n",
    " * How to use the \"allspec\" file either locally or on SciServer to check whether an object you are interested in has SDSS spectra.\n",
    " * How to track down the relevant SDSS-V BOSS (optical) parameters and spectrum for galaxies and quasars.\n",
    " * How to track down the relevant SDSS-V BOSS (optical) and APOGEE (infrared) parameters and spectrum for stars."
   ]
  },
  {
   "cell_type": "markdown",
   "id": "68e854ec-1e34-40d0-ba63-f03ca94e7512",
   "metadata": {},
   "source": [
    "## Introduction\n",
    "\n",
    "SDSS has observed spectra in several ways over the past 20+ years. Specifically, we have used the SDSS and BOSS optical spectrographs in single-fiber and integral-field modes, and we have used the two APOGEE spectrographs in single-fiber mode. Meanwhile, this data has been processed through a several pipelines and pipeline stages, and is processed into both individual visit and coadded spectra.\n",
    "\n",
    "To help users track down the relevant information for objects of interest, SDSS has created the `allspec` file. This file lists all spectra that SDSS has created, including all visit spectra and all coadds from every spectrograph. In this file, every object may appear once or more, if they have multiple spectra. \n",
    "\n",
    "Objects in SDSS are tracked through the `sdss_id` identifier. This is designed to correspond to unique objects on the sky, and in this notebook we will use it to identify the \"same object\" across different spectra."
   ]
  },
  {
   "cell_type": "markdown",
   "id": "0d085989-2d66-4cca-a94d-83cc1427e84d",
   "metadata": {},
   "source": [
    "## Imports\n",
    "\n",
    "We will need several Python modules for our tasks:\n",
    "\n",
    " * `os` because we usually need it\n",
    " * `matplotlib.pyplot` for plotting\n",
    " * `matplotlib` because I'm persnickety about TeXing labels\n",
    " * `numpy` because we have to do things with numbers and arrays\n",
    " * `astropy.io.fits` to read in the allspec file\n",
    " * `fitsio` for efficiently reading very large files (spAll, specObjAll)\n",
    " * `astropy.coordinates` for spatial matching\n",
    " * `sdss_access` to track down files"
   ]
  },
  {
   "cell_type": "code",
   "execution_count": 1,
   "id": "9f4bc87f-200a-4e87-a52c-b924517f3a9d",
   "metadata": {
    "tags": []
   },
   "outputs": [],
   "source": [
    "import os\n",
    "import matplotlib\n",
    "import matplotlib.pyplot as plt\n",
    "import numpy as np\n",
    "import astropy.io.fits\n",
    "import astropy.coordinates\n",
    "import fitsio\n",
    "import sdss_access\n",
    "\n",
    "matplotlib.rcParams['text.usetex'] = True\n",
    "matplotlib.rcParams['font.size'] = 14"
   ]
  },
  {
   "cell_type": "markdown",
   "id": "efd1a60c-10e5-4da0-868a-82b1156a2938",
   "metadata": {},
   "source": [
    "## SDSS File Access\n",
    "\n",
    "`sdss_access` provides ways to track down SDSS files in the data structure. \n",
    "\n",
    "This notebook is perhaps easiest to run on SciServer. But if you are working on a machine without a full copy of the SDSS Science Archive Server (SAS), you can set it up to download and cache files locally. See https:://https://sdss-access.readthedocs.io for more information!"
   ]
  },
  {
   "cell_type": "code",
   "execution_count": 2,
   "id": "9243391c-2130-4bde-8d11-ea72a35a02ee",
   "metadata": {
    "tags": []
   },
   "outputs": [],
   "source": [
    "sdss_path = sdss_access.path.Path(release='dr19', verbose=True)\n",
    "access = sdss_access.Access(release='dr19', verbose=True)"
   ]
  },
  {
   "cell_type": "markdown",
   "id": "886ffece-b5cf-4cd4-a9ed-fefba175a98c",
   "metadata": {},
   "source": [
    "## Finding and Reading the `allspec` file"
   ]
  },
  {
   "cell_type": "markdown",
   "id": "23567a29-5808-402a-904d-b864badf4f5c",
   "metadata": {},
   "source": [
    "`sdss_path` gives us an easy way to find the path to the `allspec` file."
   ]
  },
  {
   "cell_type": "code",
   "execution_count": 3,
   "id": "5702bab5-ccb7-4c90-ab48-623603bd77e5",
   "metadata": {
    "tags": []
   },
   "outputs": [
    {
     "name": "stdout",
     "output_type": "stream",
     "text": [
      "/Users/jdonor/sas/dr19/spectro/allspec/1.0.1/allspec-dr19-1.0.1.fits.gz\n"
     ]
    }
   ],
   "source": [
    "allspec_file = sdss_path.full('allspec', vers='1.0.1', release='dr19')\n",
    "\n",
    "if not sdss_path.exists('',full=allspec_file):\n",
    "    # if the file does not exist locally, this code will download the data.\n",
    "    access.remote()\n",
    "    access.add('allspec', vers='1.0.1', release='dr19')\n",
    "    access.set_stream()\n",
    "    access.commit()\n",
    "print(allspec_file)"
   ]
  },
  {
   "cell_type": "code",
   "execution_count": 4,
   "id": "e838f7e8-aca5-461b-9c19-ae3b42c09e25",
   "metadata": {
    "tags": []
   },
   "outputs": [],
   "source": [
    "allspec_hdus = astropy.io.fits.open(allspec_file)\n",
    "allspec = np.array(allspec_hdus[1].data)"
   ]
  },
  {
   "cell_type": "markdown",
   "id": "e60434e9-6547-400c-9b8e-3a6cca5e1167",
   "metadata": {},
   "source": [
    "## Matching by position to `allspec`"
   ]
  },
  {
   "cell_type": "markdown",
   "id": "e937b269-bef7-46d5-b064-ecaba0aed4f5",
   "metadata": {},
   "source": [
    "Let's say we have some position of interest. Let's figure out if we have SDSS spectra of any sort near it!\n",
    "\n",
    "I like the location (ra, dec) = (177.78, -0.73), just because I do. Let's put this in the `astropy.coordinates.SkyCoord` object."
   ]
  },
  {
   "cell_type": "code",
   "execution_count": 5,
   "id": "946bb2a8-92ec-43f5-aefe-999e2d68cfaf",
   "metadata": {
    "tags": []
   },
   "outputs": [],
   "source": [
    "center_ra = [103.40819321]\n",
    "center_dec = [-1.32137059392]\n",
    "center_coords = astropy.coordinates.SkyCoord(center_ra, center_dec, unit='deg', frame='icrs')"
   ]
  },
  {
   "cell_type": "markdown",
   "id": "9046cd94-a430-4395-8b10-c8ce298e0b40",
   "metadata": {},
   "source": [
    "Each `sdss_id` has a specific RA and Dec, so we only need to match to the unique set of `sdss_id`s. We will put those coordinates into the `astropy` object too."
   ]
  },
  {
   "cell_type": "code",
   "execution_count": 6,
   "id": "10e1732c-bb31-46f7-90f9-eb46baf8ed00",
   "metadata": {
    "tags": []
   },
   "outputs": [],
   "source": [
    "unique_sdss_id, unique_indx = np.unique(allspec['sdss_id'], return_index=True)\n",
    "unique_ra = allspec['ra'][unique_indx]\n",
    "unique_dec = allspec['dec'][unique_indx]"
   ]
  },
  {
   "cell_type": "markdown",
   "id": "9d7769ed-9870-4817-a945-ec9ee8b4020f",
   "metadata": {},
   "source": [
    "There are a few NaNs as coordinates that need to be removed. This is because the RA and Dec of each row is associated with the spectrum, and sometimes (because the fiber is unplugged or a robot is broken) we don't actually know the RA and Dec of the spectrum. There are only a few of these and it is virtually always the right thing to ignore them."
   ]
  },
  {
   "cell_type": "code",
   "execution_count": 7,
   "id": "23ba6c59-dff8-4caf-9c67-36c4c99d627d",
   "metadata": {
    "tags": []
   },
   "outputs": [],
   "source": [
    "isfinite = np.isfinite(unique_ra) & np.isfinite(unique_dec)\n",
    "unique_indx = unique_indx[isfinite]\n",
    "unique_ra = unique_ra[isfinite]\n",
    "unique_dec = unique_dec[isfinite]\n",
    "unique_coords = astropy.coordinates.SkyCoord(unique_ra, unique_dec, unit='deg', frame='icrs')"
   ]
  },
  {
   "cell_type": "markdown",
   "id": "2e824437-ee46-4b81-ab65-22200611c97c",
   "metadata": {},
   "source": [
    "Now it is easy to match. Let's look at the closest one to our desired position."
   ]
  },
  {
   "cell_type": "code",
   "execution_count": 8,
   "id": "bc3bc52d-37f6-43c6-85d8-f1440a6c758a",
   "metadata": {
    "tags": []
   },
   "outputs": [],
   "source": [
    "indx, sep, s3 = unique_coords.match_to_catalog_sky(center_coords)\n",
    "sep = sep.value   # avoid units nonsense (\"value\" is in deg in this case)"
   ]
  },
  {
   "cell_type": "code",
   "execution_count": 9,
   "id": "86f07312-987c-44c9-b191-eee4d413128a",
   "metadata": {
    "tags": []
   },
   "outputs": [],
   "source": [
    "iminsep = np.argmin(sep)\n",
    "match_indx = unique_indx[iminsep]\n",
    "sdss_id = allspec['sdss_id'][match_indx]"
   ]
  },
  {
   "cell_type": "markdown",
   "id": "cceec22d-f61d-4ba4-afc9-74535251ed86",
   "metadata": {},
   "source": [
    "## Information in allspec"
   ]
  },
  {
   "cell_type": "markdown",
   "id": "21bd2df7-0758-4805-9674-af01957e5123",
   "metadata": {},
   "source": [
    "Now that we have found a spectrum, we can take a look at the information in `allspec`. Below you can see several types of information:\n",
    "\n",
    " * The `allspec` and `multiplex` identifiers (just unique identifiers)\n",
    " * Information about the observatory, SDSS phase, and instrument\n",
    " * The `sdss_id` and `catalogid` of the target object.\n",
    " * Many columns of spectroscopic IDs. Only one set of identifiers will be filled with meaningful information.\n",
    " * The name and location of the spectrum file (useful!) and a link to SkyServer"
   ]
  },
  {
   "cell_type": "code",
   "execution_count": 10,
   "id": "ea324fb2-e53a-4972-a665-4b2d2028ce9e",
   "metadata": {
    "tags": []
   },
   "outputs": [
    {
     "name": "stdout",
     "output_type": "stream",
     "text": [
      "allspec_id :: b'sdss5-apo-boss-daily-v6_1_3-103427-59654-27021598031242844-74807581'\n",
      "multiplex_id :: b'sdss5-apo-boss-v6_1_3-103427-59654'\n",
      "sdss_phase :: 5\n",
      "observatory :: b'APO'\n",
      "instrument :: b'boss'\n",
      "sdss_id :: 74807581\n",
      "catalogid :: 27021598031242844\n",
      "fiberid :: -999\n",
      "ifudsgn :: -999\n",
      "plate :: -999\n",
      "fps_field :: 103427\n",
      "plate_or_fps_field :: 103427\n",
      "mjd :: 59654\n",
      "run2d :: b'v6_1_3'\n",
      "run1d :: b'v6_1_3'\n",
      "coadd :: b'daily'\n",
      "apred_vers :: b''\n",
      "drpver :: b''\n",
      "version :: b'v6_1_3'\n",
      "programname :: b'mwm_yso'\n",
      "survey :: b'MWM'\n",
      "sas_file :: b'spec-103427-59654-27021598031242844.fits'\n",
      "cas_url :: b'https://skyserver.sdss.org/public/VisualTools/explore/summary?sId=7480758101034275965400060103'\n",
      "sas_url :: b'https://data.sdss.org/sas/dr19/spectro/boss/redux/v6_1_3/spectra/lite/103427/59654/spec-103427-59654-27021598031242844.fits'\n",
      "ra :: 103.408290969\n",
      "dec :: -1.32150220553\n",
      "healpix :: 100755\n",
      "healpixgrp :: 100\n",
      "apogee_id :: b''\n",
      "apogee_field :: b''\n",
      "telescope :: b''\n",
      "file_spec :: b'specLite'\n",
      "apstar_id :: b''\n",
      "visit_id :: b''\n",
      "mangaid :: b''\n",
      "specobjid :: b'7480758101034275965400060103'\n"
     ]
    }
   ],
   "source": [
    "for n in allspec.dtype.names:\n",
    "    print(\"{n} :: {v}\".format(n=n, v=allspec[n][match_indx]))"
   ]
  },
  {
   "cell_type": "markdown",
   "id": "cbc79f1b-7836-44ce-a28c-c28fea2aafa4",
   "metadata": {},
   "source": [
    "## Finding all spectra"
   ]
  },
  {
   "cell_type": "markdown",
   "id": "f20eeeb5-27a1-4fe3-8fa8-4b2ff7a62c12",
   "metadata": {},
   "source": [
    "We can also find all of the spectra associated with the `sdss_id`. This is useful for objects with repeat spectroscopy."
   ]
  },
  {
   "cell_type": "code",
   "execution_count": 11,
   "id": "e4bfa0bc-3ede-4f22-9242-3fa38ef30052",
   "metadata": {
    "tags": []
   },
   "outputs": [],
   "source": [
    "iallmatch = np.where(allspec['sdss_id'] == allspec['sdss_id'][match_indx])[0]"
   ]
  },
  {
   "cell_type": "markdown",
   "id": "f7a3e49c-8287-4d37-a312-c346fafd3e2a",
   "metadata": {
    "execution": {
     "iopub.execute_input": "2025-07-09T21:03:57.516083Z",
     "iopub.status.busy": "2025-07-09T21:03:57.515339Z",
     "iopub.status.idle": "2025-07-09T21:03:59.339288Z",
     "shell.execute_reply": "2025-07-09T21:03:59.337072Z",
     "shell.execute_reply.started": "2025-07-09T21:03:57.516024Z"
    },
    "tags": []
   },
   "source": [
    "We can look at what these spectra actually are. It can take some getting used to to figure out this information. What the IDs tell us is:\n",
    "\n",
    " * There are three distinct BOSS spectra, which were taken during SDSS-V.\n",
    " * We can see that for each MJD (59654 through 59656) there is both a \"daily\" and an \"epoch\" coadd. Apparently, the BOSS pipeline considers (for this type of object) that two different days are two different epochs. In this case the \"daily\" and \"epoch\" coadds will be very very similar.\n",
    " * There are four distinct APOOGEE spectra, and one coadd."
   ]
  },
  {
   "cell_type": "code",
   "execution_count": 12,
   "id": "c6ca0f9e-b9e4-43db-a3da-62dad8042e49",
   "metadata": {
    "tags": []
   },
   "outputs": [
    {
     "name": "stdout",
     "output_type": "stream",
     "text": [
      "[b'sdss5-apo-boss-daily-v6_1_3-103427-59654-27021598031242844-74807581'\n",
      " b'sdss5-apo-boss-daily-v6_1_3-103427-59655-27021598031242844-74807581'\n",
      " b'sdss5-apo-boss-daily-v6_1_3-103427-59656-27021598031242844-74807581'\n",
      " b'sdss5-apo-boss-epoch-v6_1_3-103427-59654-27021598031242844-74807581'\n",
      " b'sdss5-apo-boss-epoch-v6_1_3-103427-59655-27021598031242844-74807581'\n",
      " b'sdss5-apo-boss-epoch-v6_1_3-103427-59656-27021598031242844-74807581'\n",
      " b'sdss5-apo-apogee-1.3-4054-59657-185'\n",
      " b'sdss5-apo-apogee-1.3-4003-59654-185'\n",
      " b'sdss5-apo-apogee-1.3-4053-59657-144'\n",
      " b'sdss5-apo-apogee-1.3-4036-59655-185'\n",
      " b'sdss5-apo-apogee-1.3-2M06533798-0119171']\n"
     ]
    }
   ],
   "source": [
    "print(allspec['allspec_id'][iallmatch])"
   ]
  },
  {
   "cell_type": "markdown",
   "id": "0c296130-0879-468a-a4ae-306c9ab5b77b",
   "metadata": {},
   "source": [
    "## Looking at the spectra"
   ]
  },
  {
   "cell_type": "markdown",
   "id": "39274240-3b5e-4c51-9211-4b21175fc533",
   "metadata": {},
   "source": [
    "We can track down the spectra on disk quite easily. The `sas_url` tells us the path. We just need to change the root of the tree to a local file path as follows.\n",
    "\n",
    "If the data don't already exist on disk (e.g., if you're not running this notebook on SciServer), we can download the data easily with `sdss_access`"
   ]
  },
  {
   "cell_type": "code",
   "execution_count": 13,
   "id": "49d6c33e-cc63-4ec0-af82-9a2d3c9907b1",
   "metadata": {
    "tags": []
   },
   "outputs": [],
   "source": [
    "url_root = 'https://data.sdss.org/sas'\n",
    "local_root = os.getenv('SAS_BASE_DIR')\n",
    "spectrum_files = list()\n",
    "download_files = list()\n",
    "\n",
    "for p in allspec[\"sas_url\"][iallmatch]:\n",
    "    local_path = p.decode().replace(url_root, local_root)\n",
    "    spectrum_files.append(local_path)\n",
    "    if not os.path.exists(local_path):\n",
    "        download_files.append(local_path)\n",
    "\n",
    "if len(download_files) > 0:\n",
    "    print(\"fetching files, please stand by\")\n",
    "    access.remote()\n",
    "    for local_path in download_files:\n",
    "        access.add_file(local_path, input_type='filepath')\n",
    "\n",
    "    access.set_stream()\n",
    "\n",
    "    # disable follow_symlinks\n",
    "    access.commit(follow_symlinks=False)"
   ]
  },
  {
   "cell_type": "markdown",
   "id": "827b0cec-f98b-46b9-9bf8-c0fd9dbc8d26",
   "metadata": {},
   "source": [
    "Here then are the paths in the local SAS directory structure:"
   ]
  },
  {
   "cell_type": "code",
   "execution_count": 14,
   "id": "542986a1-67b7-4525-8ba7-008af82e99d7",
   "metadata": {
    "tags": []
   },
   "outputs": [
    {
     "name": "stdout",
     "output_type": "stream",
     "text": [
      "/Users/jdonor/sas/dr19/spectro/boss/redux/v6_1_3/spectra/lite/103427/59654/spec-103427-59654-27021598031242844.fits\n",
      "/Users/jdonor/sas/dr19/spectro/boss/redux/v6_1_3/spectra/lite/103427/59655/spec-103427-59655-27021598031242844.fits\n",
      "/Users/jdonor/sas/dr19/spectro/boss/redux/v6_1_3/spectra/lite/103427/59656/spec-103427-59656-27021598031242844.fits\n",
      "/Users/jdonor/sas/dr19/spectro/boss/redux/v6_1_3/epoch/spectra/lite/103427/59654/spec-103427-59654-27021598031242844.fits\n",
      "/Users/jdonor/sas/dr19/spectro/boss/redux/v6_1_3/epoch/spectra/lite/103427/59655/spec-103427-59655-27021598031242844.fits\n",
      "/Users/jdonor/sas/dr19/spectro/boss/redux/v6_1_3/epoch/spectra/lite/103427/59656/spec-103427-59656-27021598031242844.fits\n",
      "/Users/jdonor/sas/dr19/spectro/apogee/redux/1.3/visit/apo25m/103442/4054/59657/apVisit-1.3-apo25m-4054-59657-185.fits\n",
      "/Users/jdonor/sas/dr19/spectro/apogee/redux/1.3/visit/apo25m/103442/4003/59654/apVisit-1.3-apo25m-4003-59654-185.fits\n",
      "/Users/jdonor/sas/dr19/spectro/apogee/redux/1.3/visit/apo25m/103427/4053/59657/apVisit-1.3-apo25m-4053-59657-144.fits\n",
      "/Users/jdonor/sas/dr19/spectro/apogee/redux/1.3/visit/apo25m/103442/4036/59655/apVisit-1.3-apo25m-4036-59655-185.fits\n",
      "/Users/jdonor/sas/dr19/spectro/apogee/redux/1.3/stars/apo25m/100/100755/apStar-1.3-apo25m-2M06533798-0119171.fits\n"
     ]
    }
   ],
   "source": [
    "for f in spectrum_files:\n",
    "    print(f)"
   ]
  },
  {
   "cell_type": "markdown",
   "id": "6fc2a516-4689-4b58-8711-e303da904550",
   "metadata": {},
   "source": [
    "We can open one of the BOSS files up to see what it has in it. We'll first just look at what the HDUs are called."
   ]
  },
  {
   "cell_type": "code",
   "execution_count": 15,
   "id": "81bdb5f5-aeb6-4b32-a6ab-0bf4ea4d4281",
   "metadata": {
    "tags": []
   },
   "outputs": [],
   "source": [
    "spec_hdulist = astropy.io.fits.open(spectrum_files[0])"
   ]
  },
  {
   "cell_type": "code",
   "execution_count": 16,
   "id": "c0309f85-aca6-407a-9c6d-870f0e25e749",
   "metadata": {
    "tags": []
   },
   "outputs": [
    {
     "name": "stdout",
     "output_type": "stream",
     "text": [
      "HDU0\n",
      "COADD\n",
      "SPALL\n",
      "ZALL\n",
      "ZLINE\n"
     ]
    }
   ],
   "source": [
    "for ihdu, spec_hdu in enumerate(spec_hdulist):\n",
    "    if('extname' in spec_hdu.header):\n",
    "        print(spec_hdu.header['extname'])\n",
    "    else:\n",
    "        print(\"HDU{i}\".format(i=ihdu))"
   ]
  },
  {
   "cell_type": "markdown",
   "id": "35f603b2-602e-42ad-b2c6-b3baee34a43b",
   "metadata": {},
   "source": [
    "It looks like \"COADD\" actuall has the spectrum. This is a table, and the columns have the fluxes, wavelengths, masks, etc. Really you should look at the data model at: https://data.sdss5.org/datamodel/files/BOSS_SPECTRO_REDUX/RUN2D/spectra/PLATE4/spec.html"
   ]
  },
  {
   "cell_type": "code",
   "execution_count": 17,
   "id": "b260e118-0bb2-4733-a1ac-693d734dc6db",
   "metadata": {
    "tags": []
   },
   "outputs": [],
   "source": [
    "coadd = np.array(spec_hdulist['COADD'].data)\n",
    "coadd_header = spec_hdulist['COADD'].header"
   ]
  },
  {
   "cell_type": "code",
   "execution_count": 18,
   "id": "5cbed391-3db0-4ba2-b409-8223f267782f",
   "metadata": {
    "tags": []
   },
   "outputs": [
    {
     "name": "stdout",
     "output_type": "stream",
     "text": [
      "('FLUX', 'LOGLAM', 'IVAR', 'AND_MASK', 'OR_MASK', 'WDISP', 'SKY', 'MODEL', 'WRESL')\n"
     ]
    }
   ],
   "source": [
    "print(coadd.dtype.names)"
   ]
  },
  {
   "cell_type": "markdown",
   "id": "598f410c-f896-473b-9bbc-4a86a00b12e1",
   "metadata": {},
   "source": [
    "But if we want to know the units of FLUX or LOGLAM we can check:"
   ]
  },
  {
   "cell_type": "code",
   "execution_count": 19,
   "id": "94452eb8-1bbd-4438-ae33-8a56d6d7f2f7",
   "metadata": {
    "tags": []
   },
   "outputs": [
    {
     "name": "stdout",
     "output_type": "stream",
     "text": [
      "10^-17 ergs/s/cm^2/Angs\n",
      "log10(Angs)\n"
     ]
    }
   ],
   "source": [
    "print(coadd_header['TUNIT1'])\n",
    "print(coadd_header['TUNIT2'])"
   ]
  },
  {
   "cell_type": "markdown",
   "id": "f2c74d6c-7369-477d-a2a5-892c3494536a",
   "metadata": {},
   "source": [
    "Now we can plot and label our plot:"
   ]
  },
  {
   "cell_type": "code",
   "execution_count": 20,
   "id": "54eb9ef2-aa7d-412b-8f3c-a4ea8d5ad10e",
   "metadata": {
    "tags": []
   },
   "outputs": [
    {
     "data": {
      "text/plain": [
       "Text(0, 0.5, '$f_\\\\lambda$ \\\\rm ($10^{-17}$ erg cm$^{-2}$ s$^{-1}$ \\\\AA$^{-1}$)')"
      ]
     },
     "execution_count": 20,
     "metadata": {},
     "output_type": "execute_result"
    },
    {
     "data": {
      "image/png": "[encoded data removed]",
      "text/plain": [
       "<Figure size 640x480 with 1 Axes>"
      ]
     },
     "metadata": {},
     "output_type": "display_data"
    }
   ],
   "source": [
    "# Let's set sensible limits; the model is better than the data for that\n",
    "gd = coadd['IVAR'] > 0\n",
    "gdmax = coadd['MODEL'][gd].max()\n",
    "\n",
    "plt.plot(10.**coadd['LOGLAM'], coadd['FLUX'], linewidth=1, color='black')\n",
    "plt.plot(10.**coadd['LOGLAM'], coadd['MODEL'], linewidth=1, color='red')\n",
    "plt.ylim(np.array([-0.05, 1.3]) * gdmax)\n",
    "\n",
    "plt.xlabel(r'\\rm Wavelength (Angstroms)')\n",
    "plt.ylabel(r'$f_\\lambda$ \\rm ($10^{-17}$ erg cm$^{-2}$ s$^{-1}$ \\AA$^{-1}$)')"
   ]
  },
  {
   "cell_type": "markdown",
   "id": "b9c7b59a-0eb6-4b0a-9965-3479a548f3ed",
   "metadata": {},
   "source": [
    "We have three visits so we can compare them."
   ]
  },
  {
   "cell_type": "code",
   "execution_count": 21,
   "id": "4da11feb-5de0-4724-8cca-ac497f655796",
   "metadata": {
    "tags": []
   },
   "outputs": [],
   "source": [
    "boss_visits = []\n",
    "mjds = []\n",
    "for file in spectrum_files[0:3]:\n",
    "    spec_hdulist = astropy.io.fits.open(file)\n",
    "    visit = np.array(spec_hdulist['COADD'].data)\n",
    "    boss_visits.append(visit)\n",
    "    mjds.append(spec_hdulist[0].header['MJD'])"
   ]
  },
  {
   "cell_type": "code",
   "execution_count": 22,
   "id": "deb3757f-bf82-472d-881a-1fa3369c027c",
   "metadata": {
    "tags": []
   },
   "outputs": [
    {
     "data": {
      "text/plain": [
       "<matplotlib.legend.Legend at 0x11a6007a0>"
      ]
     },
     "execution_count": 22,
     "metadata": {},
     "output_type": "execute_result"
    },
    {
     "data": {
      "image/png": "[encoded data removed]",
      "text/plain": [
       "<Figure size 640x480 with 1 Axes>"
      ]
     },
     "metadata": {},
     "output_type": "display_data"
    }
   ],
   "source": [
    "# Let's set sensible limits; the model is better than the data for that\n",
    "allmax = 0.0\n",
    "for mjd, visit in zip(mjds, boss_visits):\n",
    "    gd = visit['IVAR'] > 0\n",
    "    gdmax = visit['MODEL'][gd].max()\n",
    "    if(gdmax > allmax):\n",
    "        allmax = gdmax\n",
    "\n",
    "    plt.plot(10.**visit['LOGLAM'], visit['FLUX'], linewidth=1, label=str(mjd))\n",
    "\n",
    "plt.ylim(np.array([-0.05, 1.3]) * allmax)\n",
    "plt.xlabel(r'\\rm Wavelength (Angstroms)')\n",
    "plt.ylabel(r'$f_\\lambda$ \\rm ($10^{-17}$ erg cm$^{-2}$ s$^{-1}$ \\AA$^{-1}$)')\n",
    "plt.legend()"
   ]
  },
  {
   "cell_type": "markdown",
   "id": "231d93d5-601d-4ff5-b20a-0c3c2a3a57c5",
   "metadata": {},
   "source": [
    "This is either exciting or we shouldn't trust the spectrophotometry. In this case, we should not trust the spectrophotometry. This is a deep subject for fiber spectroscopy, but in general you do need to be careful and not leap to conclusions. In this case, these are fairly early SDSS-V observations and likely the fiber positioning is not good enough for good spectrophotometry. In addition, the observing mode we used had fewer spectrophotometric standards (for example, the Reverberation Mapping plates have substantially more)>"
   ]
  },
  {
   "cell_type": "markdown",
   "id": "31737e08-f933-419b-af96-3f908f5cf2a9",
   "metadata": {},
   "source": [
    "We can also look at the APOGEE spectra. Again we can check the HDUs of one of the files in our list associated with an APOGEE visit."
   ]
  },
  {
   "cell_type": "code",
   "execution_count": 23,
   "id": "ccd9ab22-3b0b-4e27-a462-a3b01bf29144",
   "metadata": {
    "tags": []
   },
   "outputs": [
    {
     "name": "stdout",
     "output_type": "stream",
     "text": [
      "HDU0\n",
      "FLUX\n",
      "ERROR\n",
      "MASK\n",
      "WAVELENGTH\n",
      "SKY FLUX\n",
      "SKY ERROR\n",
      "TELLURIC\n",
      "TELLURIC ERROR\n",
      "WAVE COEFFICIENTS\n",
      "LSF COEFFICIENTS\n",
      "HDU11\n"
     ]
    }
   ],
   "source": [
    "spec_hdulist = astropy.io.fits.open(spectrum_files[6])\n",
    "for ihdu, spec_hdu in enumerate(spec_hdulist):\n",
    "    if('extname' in spec_hdu.header):\n",
    "        print(spec_hdu.header['extname'])\n",
    "    else:\n",
    "        print(\"HDU{i}\".format(i=ihdu))"
   ]
  },
  {
   "cell_type": "markdown",
   "id": "8e25773e-1295-458b-806e-8010ed584e0c",
   "metadata": {},
   "source": [
    "And we can check the units of the flux."
   ]
  },
  {
   "cell_type": "code",
   "execution_count": 24,
   "id": "c98dddcc-30a7-438e-91d5-4a2f0dbad5a9",
   "metadata": {},
   "outputs": [
    {
     "name": "stdout",
     "output_type": "stream",
     "text": [
      "Flux (10^-17 erg/s/cm^2/Ang)\n"
     ]
    }
   ],
   "source": [
    "print(spec_hdulist['FLUX'].header['BUNIT'])"
   ]
  },
  {
   "cell_type": "markdown",
   "id": "c62feb4d-690f-4789-8d3a-260e0ab564d7",
   "metadata": {},
   "source": [
    "In the case of APOGEE the spectra are a lot harder to interpret by eye! Most of the information is in the fine scale details. You can zoom in and explore with the notebook to try to make sense of it."
   ]
  },
  {
   "cell_type": "code",
   "execution_count": 25,
   "id": "4a7255ea-cf68-4b3c-bc12-ca75ff1895bd",
   "metadata": {
    "tags": []
   },
   "outputs": [
    {
     "data": {
      "text/plain": [
       "Text(0, 0.5, '$f_\\\\lambda$ \\\\rm ($10^{-17}$ erg cm$^{-2}$ s$^{-1}$ \\\\AA$^{-1}$)')"
      ]
     },
     "execution_count": 25,
     "metadata": {},
     "output_type": "execute_result"
    },
    {
     "data": {
      "image/png": "[encoded data removed]",
      "text/plain": [
       "<Figure size 640x480 with 1 Axes>"
      ]
     },
     "metadata": {},
     "output_type": "display_data"
    }
   ],
   "source": [
    "apogee_visits = []\n",
    "mjds = []\n",
    "maxmed = 0.\n",
    "colors = ['magenta', 'green', 'black', 'cyan']\n",
    "for color, file in zip(colors, spectrum_files[6:10]):\n",
    "    spec_hdulist = astropy.io.fits.open(file)\n",
    "    wave = spec_hdulist['WAVELENGTH'].data\n",
    "    flux = spec_hdulist['FLUX'].data\n",
    "    med = np.median(flux)\n",
    "    if(med > maxmed):\n",
    "        maxmed = med\n",
    "    for cam in range(0, 3):\n",
    "        plt.plot(wave[cam, :], flux[cam, :], color=color, linewidth=1, alpha=0.5)\n",
    "\n",
    "ymax = maxmed * 1.8\n",
    "plt.ylim(np.array([- 0.05, 1.1]) * ymax)\n",
    "\n",
    "# Uncomment to zoom in in wavelength\n",
    "#plt.xlim([16035, 16070])\n",
    "\n",
    "plt.xlabel(r'\\rm Wavelength (Angstroms)')\n",
    "plt.ylabel(r'$f_\\lambda$ \\rm ($10^{-17}$ erg cm$^{-2}$ s$^{-1}$ \\AA$^{-1}$)')"
   ]
  },
  {
   "cell_type": "markdown",
   "id": "b1e27013-0bb9-4d96-a058-346e9d0f1007",
   "metadata": {},
   "source": [
    "## Tracking down parameters (BOSS DRP)"
   ]
  },
  {
   "cell_type": "markdown",
   "id": "f57f8e4a-3d86-4b35-b1c0-d26b0ccfc3a8",
   "metadata": {},
   "source": [
    "Of course, you don't always want to go back to the spectrum! You may often find it easier to just use the catalogs we have. You can do so by matching to our catalogs by `sdss_id`.\n",
    "\n",
    "For the BOSS DRP, this is useful for looking up general classifications and redshifts, from the `spAll` file. We can again use `sdss_path` to find it, using the `run2d` version associated with DR19."
   ]
  },
  {
   "cell_type": "code",
   "execution_count": 26,
   "id": "2ae82d8e-e2fa-4976-a9e6-f3dd4cb2733c",
   "metadata": {
    "tags": []
   },
   "outputs": [
    {
     "name": "stdout",
     "output_type": "stream",
     "text": [
      "/Users/jdonor/sas/dr19/spectro/boss/redux/v6_1_3/spAll-v6_1_3.fits.gz\n"
     ]
    }
   ],
   "source": [
    "spall_file = sdss_path.full('spAll', run2d='v6_1_3')\n",
    "\n",
    "if not sdss_path.exists('',full=spall_file):\n",
    "    # if the file does not exist locally, this code will download the data.\n",
    "    access.remote()\n",
    "    access.add('spAll', run2d='v6_1_3')\n",
    "    access.set_stream()\n",
    "    access.commit()\n",
    "print(spall_file)"
   ]
  },
  {
   "cell_type": "markdown",
   "id": "85674205-fe0a-4c0a-ae9d-7e12344fb0e5",
   "metadata": {},
   "source": [
    "We don't want to read in all of the columns, it is pretty big. Let's just read in a few important ones."
   ]
  },
  {
   "cell_type": "code",
   "execution_count": 27,
   "id": "a98d977d-d9b9-402b-9386-6e4bb24a6f15",
   "metadata": {
    "tags": []
   },
   "outputs": [],
   "source": [
    "spall_columns = ['SDSS_ID', 'CARTON_TO_TARGET_PK', 'MJD', 'CLASS', 'SUBCLASS', 'Z', 'ZWARNING']\n",
    "spall = fitsio.read(spall_file, columns=spall_columns)"
   ]
  },
  {
   "cell_type": "markdown",
   "id": "ebcdab0d-e9d0-452c-98bb-2741c4c60a4f",
   "metadata": {},
   "source": [
    "Now we can just find the entries associated with the `sdss_id` we have identified."
   ]
  },
  {
   "cell_type": "code",
   "execution_count": 28,
   "id": "1d3a8c25-c611-48af-beb2-12dbbcf905ac",
   "metadata": {
    "tags": []
   },
   "outputs": [],
   "source": [
    "ispall = np.where(spall['SDSS_ID'] == sdss_id)[0]"
   ]
  },
  {
   "cell_type": "markdown",
   "id": "4de13be1-dd06-45d2-8a3d-dfeeace525b7",
   "metadata": {},
   "source": [
    "We can output the information for each of the three spectra in the file:"
   ]
  },
  {
   "cell_type": "code",
   "execution_count": 29,
   "id": "b12c43b7-002f-4ce6-ad14-71ff93ca8fa6",
   "metadata": {
    "tags": []
   },
   "outputs": [
    {
     "name": "stdout",
     "output_type": "stream",
     "text": [
      "MJD: 59654, CLASS: STAR, Z : 0.00025740719866007566\n",
      "MJD: 59655, CLASS: STAR, Z : 0.00021845850278623402\n",
      "MJD: 59656, CLASS: STAR, Z : 0.00021172482229303569\n"
     ]
    }
   ],
   "source": [
    "for i in ispall:\n",
    "    print(\"MJD: {m}, CLASS: {c}, Z : {z}\".format(m=spall['MJD'][i], c=spall['CLASS'][i], z=spall['Z'][i]))"
   ]
  },
  {
   "cell_type": "markdown",
   "id": "4c1d2365-05b2-468a-83ef-bd50ca01e47c",
   "metadata": {},
   "source": [
    "If you have a set of more than one `sdss_id`'s you can use `np.intersect1d()` to easily find the entries you need, or convert to `astropy.table.Table` objects and use the `join()` method for those."
   ]
  },
  {
   "cell_type": "markdown",
   "id": "2b662efd-efcb-41d2-9329-43b4911e8fd9",
   "metadata": {},
   "source": [
    "## Tracking down parameters (APOGEE DRP)"
   ]
  },
  {
   "cell_type": "markdown",
   "id": "6476f327-c7bd-4dde-bd94-f2aba94418b4",
   "metadata": {},
   "source": [
    "For the APOGEE DRP, there is a similar summary file. If you are looking at the DRP, you are most likely interested in the individual visits, so the `allVisit` file is what you want. \n",
    "\n",
    "In this case you do need to know which telescope the observations are in; if you are looking at many objects, this will involve some logic based on what `allspec` tells you. In our case we will just look. For the APOGEE spectra, it specifies the telescope name (for BOSS it does not, because the data is not organized by telescope)."
   ]
  },
  {
   "cell_type": "code",
   "execution_count": 30,
   "id": "f79ad7e5-b9f5-4ae8-b3b2-d866f5bad14f",
   "metadata": {
    "tags": []
   },
   "outputs": [
    {
     "name": "stdout",
     "output_type": "stream",
     "text": [
      "[b'' b'' b'' b'' b'' b'' b'apo25m' b'apo25m' b'apo25m' b'apo25m' b'apo25m']\n"
     ]
    }
   ],
   "source": [
    "print(allspec['telescope'][iallmatch])"
   ]
  },
  {
   "cell_type": "markdown",
   "id": "59148c9b-f780-4cc4-afc5-e5932eed16e5",
   "metadata": {},
   "source": [
    "Then `sdss_path` tells us where the file is, using the `apred` reduction version associated with DR19:"
   ]
  },
  {
   "cell_type": "code",
   "execution_count": 31,
   "id": "69485ed6-ff21-4d5a-be40-eb9bc3bc65d3",
   "metadata": {
    "tags": []
   },
   "outputs": [
    {
     "name": "stdout",
     "output_type": "stream",
     "text": [
      "/Users/jdonor/sas/dr19/spectro/apogee/redux/1.3/summary/allVisit-1.3-apo25m.fits\n"
     ]
    }
   ],
   "source": [
    "allvisit_file = sdss_path.full('allVisit', telescope='apo25m', apred='1.3')\n",
    "\n",
    "if not sdss_path.exists('',full=allvisit_file):\n",
    "    # if the file does not exist locally, this code will download the data.\n",
    "    access.remote()\n",
    "    access.add('allVisit', telescope='apo25m', apred='1.3')\n",
    "    access.set_stream()\n",
    "    access.commit()\n",
    "print(allvisit_file)"
   ]
  },
  {
   "cell_type": "markdown",
   "id": "6dd7871a-6f62-46b9-83a9-038ed8dd5af4",
   "metadata": {},
   "source": [
    "Now we can read it in, search by `sdss_id`, and look (for example) at the barycentric radial velocities for each visit. Note that the formal errors reported somewhat underestimate the true errors."
   ]
  },
  {
   "cell_type": "code",
   "execution_count": 32,
   "id": "74717abd-9929-4ec6-a873-124a7385a1c0",
   "metadata": {
    "tags": []
   },
   "outputs": [],
   "source": [
    "allvisit = fitsio.read(allvisit_file)"
   ]
  },
  {
   "cell_type": "code",
   "execution_count": 33,
   "id": "a2f08039-24dd-43a6-a6f3-799ec09d9833",
   "metadata": {
    "tags": []
   },
   "outputs": [],
   "source": [
    "iallvisit = np.where(allvisit['sdss_id'] == sdss_id)[0]"
   ]
  },
  {
   "cell_type": "code",
   "execution_count": 34,
   "id": "012b240a-6be2-436f-ad51-90f581c65618",
   "metadata": {
    "tags": []
   },
   "outputs": [
    {
     "name": "stdout",
     "output_type": "stream",
     "text": [
      "MJD: 59657, vrad: 72.180 +/ 0.155 km/s\n",
      "MJD: 59654, vrad: 72.387 +/ 0.166 km/s\n",
      "MJD: 59657, vrad: 72.787 +/  0.11 km/s\n",
      "MJD: 59655, vrad: 72.690 +/ 0.201 km/s\n"
     ]
    }
   ],
   "source": [
    "for i in iallvisit:\n",
    "    print(\"MJD: {m}, vrad: {v:5.3f} +/ {e:5.3} km/s\".format(m=allvisit['mjd'][i], v=allvisit['vrad'][i], e=allvisit['vrelerr'][i]))"
   ]
  },
  {
   "cell_type": "markdown",
   "id": "19aa95de-9e37-4489-a8f4-d7833df17805",
   "metadata": {
    "execution": {
     "iopub.execute_input": "2025-07-10T16:43:29.193664Z",
     "iopub.status.busy": "2025-07-10T16:43:29.192818Z",
     "iopub.status.idle": "2025-07-10T16:43:29.203755Z",
     "shell.execute_reply": "2025-07-10T16:43:29.201638Z",
     "shell.execute_reply.started": "2025-07-10T16:43:29.193604Z"
    },
    "tags": []
   },
   "source": [
    "## Tracking down parameters (Astra results)"
   ]
  },
  {
   "cell_type": "markdown",
   "id": "d1d5e876-f8c0-4553-9ac0-62be61b56cf0",
   "metadata": {},
   "source": [
    "Finally, since this is a star, there will be results in the Astra files. This is a whole other topic, but basically any Astra result file will also have `sdss_id` in it. Note that there are Astra results based on BOSS and on APOGEE, depending on the particular pipeline in the Astra framework being used.\n",
    "\n",
    "There is a summary file with all processed stars (one row per star). Below we just read it in and show some basic results about the star.\n",
    "\n",
    "Note that in the \"lite\" file, the parameters are a best guess based on the pipelines that were run, provided for convenience, but it usually is best to be performing your analysis based on the results of one of the specific pipelines.\n",
    "\n",
    "See the Astra web documentation for more information: https://sdss.org/dr19/mwm/astra/"
   ]
  },
  {
   "cell_type": "code",
   "execution_count": 35,
   "id": "87e72767-abee-49f9-9d0a-91209ebefa8c",
   "metadata": {
    "tags": []
   },
   "outputs": [
    {
     "name": "stdout",
     "output_type": "stream",
     "text": [
      "/Users/jdonor/sas/dr19/spectro/astra/0.6.0/summary/astraMWMLite-0.6.0.fits.gz\n"
     ]
    }
   ],
   "source": [
    "mwmlite_file = sdss_path.full('astraMWMLite', v_astra='0.6.0')\n",
    "\n",
    "if not sdss_path.exists('',full=mwmlite_file):\n",
    "    # if the file does not exist locally, this code will download the data.\n",
    "    access.remote()\n",
    "    access.add('astraMWMLite', v_astra='0.6.0')\n",
    "    access.set_stream()\n",
    "    access.commit()\n",
    "print(mwmlite_file)\n",
    "\n",
    "mwmlite = fitsio.read(mwmlite_file)"
   ]
  },
  {
   "cell_type": "code",
   "execution_count": 36,
   "id": "e4aacd8f-3692-425f-892f-42d463d5cebf",
   "metadata": {
    "tags": []
   },
   "outputs": [],
   "source": [
    "imwm = np.where(mwmlite['sdss_id'] == sdss_id)[0][0]"
   ]
  },
  {
   "cell_type": "code",
   "execution_count": 37,
   "id": "d1b0aaa0-5d4b-43ac-9dc2-6b045ece2e3b",
   "metadata": {
    "tags": []
   },
   "outputs": [
    {
     "name": "stdout",
     "output_type": "stream",
     "text": [
      "Teff: 5665.25 K, log g:  3.79, [Fe/H]: -0.35\n"
     ]
    }
   ],
   "source": [
    "print(\"Teff: {t:5.2f} K, log g: {l:5.2f}, [Fe/H]: {f:5.2f}\".format(t=mwmlite['teff'][imwm], l=mwmlite['logg'][imwm], f=mwmlite['fe_h'][imwm]))"
   ]
  },
  {
   "cell_type": "markdown",
   "id": "82d04501-5c5e-4bae-96af-059c9ffc78aa",
   "metadata": {},
   "source": [
    "## A note on CASJobs\n",
    "\n",
    "The `allspec` table is also available in CASJobs in the DR19 context, as are the BOSS DRP, APOGEE DRP, and Astra results. So using SQL you can perform many of the same operations using joins with `sdss_id`."
   ]
  },
  {
   "cell_type": "markdown",
   "id": "d8c7ed5d-fd4a-41f4-aa5d-e73adef6192e",
   "metadata": {},
   "source": [
    "## About this notebook\n",
    "\n",
    "This notebook was created to illustrate how to use `allspec` in DR19.\n",
    "\n",
    "Authors: Michael R. Blanton\n",
    "\n",
    "Last Update: 2025 July 10\n",
    "\n",
    "If you use astropy for published research, please cite the authors. Follow this link for more information about citing astropy: https://www.astropy.org/acknowledging.html\n",
    "\n",
    "And of course please cite SDSS when you use our data!\n"
   ]
  }
 ],
 "metadata": {
  "kernelspec": {
   "display_name": "Python 3 (ipykernel)",
   "language": "python",
   "name": "python3"
  },
  "language_info": {
   "codemirror_mode": {
    "name": "ipython",
    "version": 3
   },
   "file_extension": ".py",
   "mimetype": "text/x-python",
   "name": "python",
   "nbconvert_exporter": "python",
   "pygments_lexer": "ipython3",
   "version": "3.12.7"
  }
 },
 "nbformat": 4,
 "nbformat_minor": 5
}
