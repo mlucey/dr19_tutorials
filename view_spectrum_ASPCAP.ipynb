{
 "cells": [
  {
   "cell_type": "markdown",
   "id": "5afe77b1-d417-4b1c-b83b-ed39cc837814",
   "metadata": {},
   "source": [
    "# Accessing an APOGEE Spectrum with sdss-access\n",
    "\n",
    "## Learning Goals\n",
    "By the end of this tutorial, you will:\n",
    "- Understand how to retrieve SDSS data with sdss-access\n",
    "- Understand some of the structure of a fits file containing an APOGEE spectrum\n",
    "- (Optionally) have a copy of the AllStarASPCAP file\n",
    "\n",
    "## Introduction\n",
    "The Apache Point Observatory Galactic Evolution Experiment (APOGEE) is an infrared spectroscopic survey using two spectrographs at the two SDSS V observatories, Apache Point Observatory (APO) and Las Campanas Observatory (LCO).\n",
    "\n",
    "In this short tutorial we will briefly cover how to retrieve an object's sdss_id from the allStarASPCAP file, then show how to use the sdss-access tool to retreive the APOGEE spectrum of that star from the SDSS Science Archive Server (SAS).\n",
    "\n",
    "## Imports\n",
    "This tutorial requires two commonly used python packages, and an SDSS specific package\n",
    "- _matplotlib_ for plotting\n",
    "- _astropy_ for reading fits table\n",
    "- _sdss-access_ for accessing data on the SAS\n",
    "\n",
    "Missing packages can be installed via `pip install matplotlib astropy sdss-access` \n",
    "\n",
    "NOTE: You may want to set the `$SAS_BASE_DIR` environment variable before starting this notebook, other wise `$HOME/sas` will be created and used"
   ]
  },
  {
   "cell_type": "code",
   "execution_count": 1,
   "id": "e3c60bdb-a26c-4e7f-a7db-b68033021c34",
   "metadata": {
    "tags": []
   },
   "outputs": [],
   "source": [
    "import matplotlib.pyplot as plt\n",
    "from astropy.table import Table\n",
    "\n",
    "from sdss_access import Access\n",
    "access = Access(release='dr19')"
   ]
  },
  {
   "cell_type": "markdown",
   "id": "ede9706d-ef85-4cd5-ac89-50d122f2fca2",
   "metadata": {
    "tags": []
   },
   "source": [
    "## Optional Download\n",
    "\n",
    "If you have good internet access and space on your computer, you may download the summary file for ASPCAP. It is approximately 1.1 GB in size and can be downloaded from \n",
    "https://data.sdss5.org/sas/dr19/spectro/astra/0.6.0/summary/astraAllStarASPCAP-0.6.0.fits.gz\n",
    "\n",
    "`file_name` is currently set to just the name of the file. If the file is not in the same location as this notebook, you may need to change the variable to point to the full path\n",
    "\n",
    "If you prefer to use a previously chosen example object, skip the next two cells.\n",
    "\n",
    "HDU 2 contains the parameters from APOGEE north (APO) spectra. The current data release does not have LCO spectra.\n",
    "\n",
    "### SciServer\n",
    "\n",
    "If you are running this notebook on SciServer, this file is already available. Uncomment the second `file_name` variable to use that file."
   ]
  },
  {
   "cell_type": "code",
   "execution_count": null,
   "id": "ce127f54-957c-434f-b802-4daf3981a7b4",
   "metadata": {
    "tags": []
   },
   "outputs": [
    {
     "data": {
      "text/plain": [
       "1095480"
      ]
     },
     "execution_count": 2,
     "metadata": {},
     "output_type": "execute_result"
    }
   ],
   "source": [
    "file_name = \"astraAllStarASPCAP-0.6.0.fits.gz\"\n",
    "\n",
    "# file_name = \"/home/idies/workspace/sdss_sas/dr19/spectro/astra/0.6.0/summary/astraAllStarASPCAP-0.6.0.fits.gz\"\n",
    "\n",
    "allStarASPCAP = Table.read(file_name, hdu=2)\n",
    "len(allStarASPCAP)"
   ]
  },
  {
   "cell_type": "code",
   "execution_count": 3,
   "id": "0b5bf54c-14c9-4d72-937d-f630796c7dc5",
   "metadata": {
    "tags": []
   },
   "outputs": [
    {
     "data": {
      "text/plain": [
       "85993595"
      ]
     },
     "execution_count": 3,
     "metadata": {},
     "output_type": "execute_result"
    }
   ],
   "source": [
    "single_star = allStarASPCAP[1]\n",
    "sdss_id = single_star[\"sdss_id\"]\n",
    "sdss_id"
   ]
  },
  {
   "cell_type": "markdown",
   "id": "dfbaee44-fabd-427c-9a4b-6a2be814f415",
   "metadata": {},
   "source": [
    "For anyone who did not download the allStar summary file, we'll set sdss_id explicitly"
   ]
  },
  {
   "cell_type": "code",
   "execution_count": 4,
   "id": "0850ba4f-db5f-4864-9eac-7c41a3747a73",
   "metadata": {},
   "outputs": [],
   "source": [
    "sdss_id = 85993595"
   ]
  },
  {
   "cell_type": "markdown",
   "id": "e33a223d-9a1e-428d-88b7-2d76bfd89d9d",
   "metadata": {},
   "source": [
    "## sdss-access\n",
    "\n",
    "sdss-access has extensive [documentation](https://sdss-access.readthedocs.io/en/latest/), but we should mention a few things. First if you are a member of the collaboration accessing proprietary data, you need to set up a a [.netrc file](https://sdss-access.readthedocs.io/en/latest/auth.html). After that usage is the same for everyone.\n",
    "\n",
    "You need specify the file species you need, in this case 'mwmStar', then a series of key word arguments that vary depending on the file species. A list of file species and their keyword arugments is [available](https://sdss-access.readthedocs.io/en/latest/paths.html).\n",
    "\n",
    "The four lines of code below show an example of retreiving an sdss spectrum. `access.commit()` will retrieve the file and save it to your local SAS, `$SAS_BASE_DIR`, with the same structure as the SAS (so it will be many files deep)\n",
    "\n",
    "### SciServer\n",
    "\n",
    "If you are running this notebook on SciServer, the next cell may fail, but it is not needed. The data are all already avaible, so skip this cell and move to the next where we'll verify the file we need is present."
   ]
  },
  {
   "cell_type": "code",
   "execution_count": 5,
   "id": "87238c12-e86b-46bf-9770-72f93ac1db32",
   "metadata": {
    "tags": []
   },
   "outputs": [
    {
     "name": "stderr",
     "output_type": "stream",
     "text": [
      "Progress:   0%|                | 0/1 [00:00<?, ?files/s, n_files=1, n_streams=1]"
     ]
    },
    {
     "name": "stdout",
     "output_type": "stream",
     "text": [
      "SDSS_ACCESS> Done!\n"
     ]
    },
    {
     "name": "stderr",
     "output_type": "stream",
     "text": [
      "\n"
     ]
    }
   ],
   "source": [
    "access.remote()\n",
    "access.add('mwmStar', v_astra='0.6.0', component='', sdss_id=sdss_id)\n",
    "access.set_stream()\n",
    "access.commit()"
   ]
  },
  {
   "cell_type": "markdown",
   "id": "fd42c388-1af7-48c2-9454-661786a55a39",
   "metadata": {},
   "source": [
    "Now we'll separately build the path to our spectrum using `access.full`, print to see it on disk, then check that the file is there"
   ]
  },
  {
   "cell_type": "code",
   "execution_count": 6,
   "id": "1284ad17-3121-4af4-8c7f-30ec5db27d63",
   "metadata": {},
   "outputs": [
    {
     "name": "stdout",
     "output_type": "stream",
     "text": [
      "/Users/jdonor/sas/dr19/spectro/astra/0.6.0/spectra/star/35/95/mwmStar-0.6.0-85993595.fits\n"
     ]
    },
    {
     "data": {
      "text/plain": [
       "True"
      ]
     },
     "execution_count": 6,
     "metadata": {},
     "output_type": "execute_result"
    }
   ],
   "source": [
    "mwmStar_filename = access.full('mwmStar', v_astra='0.6.0', component='', sdss_id=sdss_id)\n",
    "print(mwmStar_filename)\n",
    "access.exists('', full=mwmStar_filename)"
   ]
  },
  {
   "cell_type": "markdown",
   "id": "0b363830-1d26-4bb6-8da9-a05353385918",
   "metadata": {},
   "source": [
    "## Load the spectrum\n",
    "\n",
    "Now use `astropy.Table` load the data. HDU 3 contains the APO spectrum.\n",
    "\n",
    "We then extract wavelength, flux, and ivar (inverse variance) to more convenient variables. Not we need the `[0]` entry. This is part of the file structure meant to be as similar as possible to other file species, which contain separat espectra for each visit. \n",
    "\n",
    "$ivar^{1/2}$ is a good representation of uncertainty in the flux"
   ]
  },
  {
   "cell_type": "code",
   "execution_count": 7,
   "id": "90bf06e2-0ce4-4d5d-9f1f-d0ac651c5f61",
   "metadata": {
    "tags": []
   },
   "outputs": [
    {
     "name": "stderr",
     "output_type": "stream",
     "text": [
      "\u001b[1;33m[WARNING]: \u001b[0m/var/folders/nd/01s30xjn2z1_lx_f3bqdbwt4nm074c/T/ipykernel_54888/3069109418.py:5: RuntimeWarning: divide by zero encountered in power\n",
      "  obs_err = mwmStar[\"ivar\"][0]**(-0.5)\n",
      "\n"
     ]
    }
   ],
   "source": [
    "mwmStar = Table.read(mwmStar_filename, hdu=3)\n",
    "\n",
    "obs_wl = mwmStar[\"wavelength\"][0]\n",
    "obs_flux = mwmStar[\"flux\"][0]\n",
    "obs_err = mwmStar[\"ivar\"][0]**(-0.5)"
   ]
  },
  {
   "cell_type": "markdown",
   "id": "8dbe895e-7cde-4363-a167-4cf2b6b4b054",
   "metadata": {},
   "source": [
    "Now plot the spectrum, flux vs wavelength.\n",
    "\n",
    "Note the mask."
   ]
  },
  {
   "cell_type": "code",
   "execution_count": 8,
   "id": "f7b54e5e-5ed2-4410-949b-684c3bada476",
   "metadata": {
    "tags": []
   },
   "outputs": [
    {
     "data": {
      "text/plain": [
       "Text(0, 0.5, 'flux')"
      ]
     },
     "execution_count": 8,
     "metadata": {},
     "output_type": "execute_result"
    },
    {
     "data": {
      "image/png": "[encoded data removed]",
      "text/plain": [
       "<Figure size 1400x400 with 1 Axes>"
      ]
     },
     "metadata": {},
     "output_type": "display_data"
    }
   ],
   "source": [
    "plt.figure(figsize=(14,4))\n",
    "\n",
    "mask = obs_err < 0.1 * obs_flux\n",
    "\n",
    "plt.errorbar(obs_wl[mask], obs_flux[mask], yerr=obs_err[mask])\n",
    "plt.xlabel(\"λ [Å]\")\n",
    "plt.ylabel(\"flux\")"
   ]
  },
  {
   "cell_type": "markdown",
   "id": "f0343c99-7237-49b1-aced-e9daddcf0c91",
   "metadata": {},
   "source": [
    "### About this notebook\n",
    "\n",
    "This notebook was created to give an example of using the `sdss-access` tool, and illustrate how to use an APOGEE spectrum.\n",
    "\n",
    "**Authors**: Adam Wheeler, John Donor\n",
    "\n",
    "**Last Update**: 2025 April 2\n",
    "\n",
    "If you use `astropy`  for published research, please cite the\n",
    "authors. Follow this link for more information about citing `astropy`:\n",
    "\n",
    "* [Citing `astropy`](https://www.astropy.org/acknowledging.html)\n",
    "\n",
    "And of course please [cite](https://sdss.org/collaboration/citing-sdss/) SDSS when you use our data."
   ]
  }
 ],
 "metadata": {
  "kernelspec": {
   "display_name": "Python 3 (ipykernel)",
   "language": "python",
   "name": "python3"
  },
  "language_info": {
   "codemirror_mode": {
    "name": "ipython",
    "version": 3
   },
   "file_extension": ".py",
   "mimetype": "text/x-python",
   "name": "python",
   "nbconvert_exporter": "python",
   "pygments_lexer": "ipython3",
   "version": "3.12.7"
  }
 },
 "nbformat": 4,
 "nbformat_minor": 5
}
